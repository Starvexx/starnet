{
 "cells": [
  {
   "cell_type": "code",
   "execution_count": 1,
   "metadata": {},
   "outputs": [
    {
     "name": "stderr",
     "output_type": "stream",
     "text": [
      "2022-09-14 15:46:23.760760: I tensorflow/core/platform/cpu_feature_guard.cc:193] This TensorFlow binary is optimized with oneAPI Deep Neural Network Library (oneDNN) to use the following CPU instructions in performance-critical operations:  SSE3 SSE4.1 SSE4.2 AVX\n",
      "To enable them in other operations, rebuild TensorFlow with the appropriate compiler flags.\n",
      "2022-09-14 15:46:23.944252: E tensorflow/stream_executor/cuda/cuda_blas.cc:2981] Unable to register cuBLAS factory: Attempting to register factory for plugin cuBLAS when one has already been registered\n"
     ]
    }
   ],
   "source": [
    "import tensorflow as tf\n",
    "from PIL import Image as img\n",
    "import logging\n",
    "tf.get_logger().setLevel(logging.ERROR)\n",
    "from starnet_v1_TF2 import StarNet\n",
    "\n",
    "import tifffile as tiff\n",
    "\n",
    "%reload_ext autoreload\n",
    "%autoreload 2"
   ]
  },
  {
   "cell_type": "markdown",
   "metadata": {},
   "source": [
    "<h3>Load a model. There are two modes - RGB and Greyscale.</h3>"
   ]
  },
  {
   "cell_type": "code",
   "execution_count": 2,
   "metadata": {},
   "outputs": [
    {
     "name": "stderr",
     "output_type": "stream",
     "text": [
      "2022-09-14 15:46:27.385467: I tensorflow/stream_executor/cuda/cuda_gpu_executor.cc:980] successful NUMA node read from SysFS had negative value (-1), but there must be at least one NUMA node, so returning NUMA node zero\n",
      "2022-09-14 15:46:27.428020: I tensorflow/stream_executor/cuda/cuda_gpu_executor.cc:980] successful NUMA node read from SysFS had negative value (-1), but there must be at least one NUMA node, so returning NUMA node zero\n",
      "2022-09-14 15:46:27.428265: I tensorflow/stream_executor/cuda/cuda_gpu_executor.cc:980] successful NUMA node read from SysFS had negative value (-1), but there must be at least one NUMA node, so returning NUMA node zero\n",
      "2022-09-14 15:46:27.429550: I tensorflow/core/platform/cpu_feature_guard.cc:193] This TensorFlow binary is optimized with oneAPI Deep Neural Network Library (oneDNN) to use the following CPU instructions in performance-critical operations:  SSE3 SSE4.1 SSE4.2 AVX\n",
      "To enable them in other operations, rebuild TensorFlow with the appropriate compiler flags.\n",
      "2022-09-14 15:46:27.430479: I tensorflow/stream_executor/cuda/cuda_gpu_executor.cc:980] successful NUMA node read from SysFS had negative value (-1), but there must be at least one NUMA node, so returning NUMA node zero\n",
      "2022-09-14 15:46:27.430709: I tensorflow/stream_executor/cuda/cuda_gpu_executor.cc:980] successful NUMA node read from SysFS had negative value (-1), but there must be at least one NUMA node, so returning NUMA node zero\n",
      "2022-09-14 15:46:27.430870: I tensorflow/stream_executor/cuda/cuda_gpu_executor.cc:980] successful NUMA node read from SysFS had negative value (-1), but there must be at least one NUMA node, so returning NUMA node zero\n",
      "2022-09-14 15:46:28.130175: I tensorflow/stream_executor/cuda/cuda_gpu_executor.cc:980] successful NUMA node read from SysFS had negative value (-1), but there must be at least one NUMA node, so returning NUMA node zero\n",
      "2022-09-14 15:46:28.130370: I tensorflow/stream_executor/cuda/cuda_gpu_executor.cc:980] successful NUMA node read from SysFS had negative value (-1), but there must be at least one NUMA node, so returning NUMA node zero\n",
      "2022-09-14 15:46:28.130536: I tensorflow/stream_executor/cuda/cuda_gpu_executor.cc:980] successful NUMA node read from SysFS had negative value (-1), but there must be at least one NUMA node, so returning NUMA node zero\n",
      "2022-09-14 15:46:28.130704: I tensorflow/core/common_runtime/gpu/gpu_device.cc:1616] Created device /job:localhost/replica:0/task:0/device:GPU:0 with 1814 MB memory:  -> device: 0, name: NVIDIA GeForce GTX 1060 3GB, pci bus id: 0000:01:00.0, compute capability: 6.1\n",
      "2022-09-14 15:46:28.131183: I tensorflow/core/common_runtime/process_util.cc:146] Creating new thread pool with default inter op setting: 2. Tune using inter_op_parallelism_threads for best performance.\n"
     ]
    }
   ],
   "source": [
    "starnet = StarNet(mode = 'Greyscale', window_size = 512, stride = 128)\n",
    "starnet.load_model('./weights', './history')"
   ]
  },
  {
   "cell_type": "markdown",
   "metadata": {},
   "source": [
    "<h3>Load and transform an image.</h3>\n",
    "\n",
    "<b>Now can work with either 8bit or 16bit TIFF files!</b>"
   ]
  },
  {
   "cell_type": "code",
   "execution_count": 3,
   "metadata": {},
   "outputs": [
    {
     "name": "stderr",
     "output_type": "stream",
     "text": [
      "2022-09-14 15:47:00.617983: I tensorflow/stream_executor/cuda/cuda_dnn.cc:384] Loaded cuDNN version 8500\n",
      "2022-09-14 15:47:00.811469: E tensorflow/stream_executor/cuda/cuda_blas.cc:218] failed to create cublas handle: the resource allocation failed\n",
      "2022-09-14 15:47:00.811997: W tensorflow/core/kernels/conv_ops_gpu.cc:378] None of the algorithms provided by cuDNN frontend heuristics worked; trying fallback algorithms.  Conv: batch: 1\n",
      "in_depths: 1\n",
      "out_depths: 64\n",
      "in: 512\n",
      "in: 512\n",
      "data_format: 1\n",
      "filter: 4\n",
      "filter: 4\n",
      "filter: 1\n",
      "dilation: 1\n",
      "dilation: 1\n",
      "stride: 2\n",
      "stride: 2\n",
      "padding: 1\n",
      "padding: 1\n",
      "dtype: DT_FLOAT\n",
      "group_count: 1\n",
      "device_identifier: \"NVIDIA GeForce GTX 1060 3GB sm_6.1 with 3164864512B RAM and 9 cores\"\n",
      "version: 1\n",
      "\n",
      "2022-09-14 15:47:00.817100: E tensorflow/stream_executor/cuda/cuda_blas.cc:218] failed to create cublas handle: the resource allocation failed\n",
      "2022-09-14 15:47:00.817614: W tensorflow/core/framework/op_kernel.cc:1780] OP_REQUIRES failed at conv_ops.cc:1134 : NOT_FOUND: No algorithm worked!  Error messages:\n",
      "  Profiling failure on CUDNN engine eng1{}: UNKNOWN: CUDNN_STATUS_ALLOC_FAILED\n",
      "in tensorflow/stream_executor/cuda/cuda_dnn.cc(4369): 'status'\n",
      "  Profiling failure on CUDNN engine eng28{}: UNKNOWN: CUDNN_STATUS_ALLOC_FAILED\n",
      "in tensorflow/stream_executor/cuda/cuda_dnn.cc(4369): 'status'\n",
      "  Profiling failure on CUDNN engine eng0{}: UNKNOWN: CUDNN_STATUS_ALLOC_FAILED\n",
      "in tensorflow/stream_executor/cuda/cuda_dnn.cc(4369): 'status'\n",
      "  Profiling failure on CUDNN engine eng4{}: UNKNOWN: CUDNN_STATUS_INTERNAL_ERROR\n",
      "in tensorflow/stream_executor/cuda/cuda_dnn.cc(4369): 'status'\n"
     ]
    },
    {
     "ename": "NotFoundError",
     "evalue": "Exception encountered when calling layer \"conv2d\" \"                 f\"(type Conv2D).\n\n{{function_node __wrapped__Conv2D_device_/job:localhost/replica:0/task:0/device:GPU:0}} No algorithm worked!  Error messages:\n  Profiling failure on CUDNN engine eng1{}: UNKNOWN: CUDNN_STATUS_ALLOC_FAILED\nin tensorflow/stream_executor/cuda/cuda_dnn.cc(4369): 'status'\n  Profiling failure on CUDNN engine eng28{}: UNKNOWN: CUDNN_STATUS_ALLOC_FAILED\nin tensorflow/stream_executor/cuda/cuda_dnn.cc(4369): 'status'\n  Profiling failure on CUDNN engine eng0{}: UNKNOWN: CUDNN_STATUS_ALLOC_FAILED\nin tensorflow/stream_executor/cuda/cuda_dnn.cc(4369): 'status'\n  Profiling failure on CUDNN engine eng4{}: UNKNOWN: CUDNN_STATUS_INTERNAL_ERROR\nin tensorflow/stream_executor/cuda/cuda_dnn.cc(4369): 'status' [Op:Conv2D]\n\nCall arguments received by layer \"conv2d\" \"                 f\"(type Conv2D):\n  • inputs=tf.Tensor(shape=(1, 512, 512, 1), dtype=float32)",
     "output_type": "error",
     "traceback": [
      "\u001b[0;31m---------------------------------------------------------------------------\u001b[0m",
      "\u001b[0;31mNotFoundError\u001b[0m                             Traceback (most recent call last)",
      "Cell \u001b[0;32mIn [3], line 5\u001b[0m\n\u001b[1;32m      2\u001b[0m out_name \u001b[38;5;241m=\u001b[39m \u001b[38;5;124m\"\u001b[39m\u001b[38;5;124m../../Nemesis/starnet/Orion_B_IRAC_Field1_i1.resamp.starless.fits\u001b[39m\u001b[38;5;124m\"\u001b[39m\n\u001b[1;32m      3\u001b[0m \u001b[38;5;66;03m#in_name = \"rgb_test5.tif\"\u001b[39;00m\n\u001b[1;32m      4\u001b[0m \u001b[38;5;66;03m#out_name = \"rgb_test5_starless.tif\"\u001b[39;00m\n\u001b[0;32m----> 5\u001b[0m \u001b[43mstarnet\u001b[49m\u001b[38;5;241;43m.\u001b[39;49m\u001b[43mtransform\u001b[49m\u001b[43m(\u001b[49m\u001b[43min_name\u001b[49m\u001b[43m,\u001b[49m\u001b[43m \u001b[49m\u001b[43mout_name\u001b[49m\u001b[43m)\u001b[49m\n",
      "File \u001b[0;32m~/src_builds/starnet_fits_support/starnet_v1_TF2.py:390\u001b[0m, in \u001b[0;36mStarNet.transform\u001b[0;34m(self, in_name, out_name)\u001b[0m\n\u001b[1;32m    387\u001b[0m y \u001b[38;5;241m=\u001b[39m \u001b[38;5;28mself\u001b[39m\u001b[38;5;241m.\u001b[39mstride \u001b[38;5;241m*\u001b[39m j\n\u001b[1;32m    389\u001b[0m tile \u001b[38;5;241m=\u001b[39m np\u001b[38;5;241m.\u001b[39mexpand_dims(image[x:x\u001b[38;5;241m+\u001b[39m\u001b[38;5;28mself\u001b[39m\u001b[38;5;241m.\u001b[39mwindow_size, y:y\u001b[38;5;241m+\u001b[39m\u001b[38;5;28mself\u001b[39m\u001b[38;5;241m.\u001b[39mwindow_size, :], axis \u001b[38;5;241m=\u001b[39m \u001b[38;5;241m0\u001b[39m)\n\u001b[0;32m--> 390\u001b[0m tile \u001b[38;5;241m=\u001b[39m (\u001b[38;5;28;43mself\u001b[39;49m\u001b[38;5;241;43m.\u001b[39;49m\u001b[43mG\u001b[49m\u001b[43m(\u001b[49m\u001b[43mtile\u001b[49m\u001b[43m)\u001b[49m[\u001b[38;5;241m0\u001b[39m] \u001b[38;5;241m+\u001b[39m \u001b[38;5;241m1\u001b[39m) \u001b[38;5;241m/\u001b[39m \u001b[38;5;241m2\u001b[39m\n\u001b[1;32m    391\u001b[0m tile \u001b[38;5;241m=\u001b[39m tile[offset:offset\u001b[38;5;241m+\u001b[39m\u001b[38;5;28mself\u001b[39m\u001b[38;5;241m.\u001b[39mstride, offset:offset\u001b[38;5;241m+\u001b[39m\u001b[38;5;28mself\u001b[39m\u001b[38;5;241m.\u001b[39mstride, :]\n\u001b[1;32m    392\u001b[0m output[x\u001b[38;5;241m+\u001b[39moffset:\u001b[38;5;28mself\u001b[39m\u001b[38;5;241m.\u001b[39mstride\u001b[38;5;241m*\u001b[39m(i\u001b[38;5;241m+\u001b[39m\u001b[38;5;241m1\u001b[39m)\u001b[38;5;241m+\u001b[39moffset, y\u001b[38;5;241m+\u001b[39moffset:\u001b[38;5;28mself\u001b[39m\u001b[38;5;241m.\u001b[39mstride\u001b[38;5;241m*\u001b[39m(j\u001b[38;5;241m+\u001b[39m\u001b[38;5;241m1\u001b[39m)\u001b[38;5;241m+\u001b[39moffset, :] \u001b[38;5;241m=\u001b[39m tile\n",
      "File \u001b[0;32m~/.local/lib/python3.10/site-packages/keras/utils/traceback_utils.py:70\u001b[0m, in \u001b[0;36mfilter_traceback.<locals>.error_handler\u001b[0;34m(*args, **kwargs)\u001b[0m\n\u001b[1;32m     67\u001b[0m     filtered_tb \u001b[38;5;241m=\u001b[39m _process_traceback_frames(e\u001b[38;5;241m.\u001b[39m__traceback__)\n\u001b[1;32m     68\u001b[0m     \u001b[38;5;66;03m# To get the full stack trace, call:\u001b[39;00m\n\u001b[1;32m     69\u001b[0m     \u001b[38;5;66;03m# `tf.debugging.disable_traceback_filtering()`\u001b[39;00m\n\u001b[0;32m---> 70\u001b[0m     \u001b[38;5;28;01mraise\u001b[39;00m e\u001b[38;5;241m.\u001b[39mwith_traceback(filtered_tb) \u001b[38;5;28;01mfrom\u001b[39;00m \u001b[38;5;28mNone\u001b[39m\n\u001b[1;32m     71\u001b[0m \u001b[38;5;28;01mfinally\u001b[39;00m:\n\u001b[1;32m     72\u001b[0m     \u001b[38;5;28;01mdel\u001b[39;00m filtered_tb\n",
      "File \u001b[0;32m~/.local/lib/python3.10/site-packages/tensorflow/python/framework/ops.py:7209\u001b[0m, in \u001b[0;36mraise_from_not_ok_status\u001b[0;34m(e, name)\u001b[0m\n\u001b[1;32m   7207\u001b[0m \u001b[38;5;28;01mdef\u001b[39;00m \u001b[38;5;21mraise_from_not_ok_status\u001b[39m(e, name):\n\u001b[1;32m   7208\u001b[0m   e\u001b[38;5;241m.\u001b[39mmessage \u001b[38;5;241m+\u001b[39m\u001b[38;5;241m=\u001b[39m (\u001b[38;5;124m\"\u001b[39m\u001b[38;5;124m name: \u001b[39m\u001b[38;5;124m\"\u001b[39m \u001b[38;5;241m+\u001b[39m name \u001b[38;5;28;01mif\u001b[39;00m name \u001b[38;5;129;01mis\u001b[39;00m \u001b[38;5;129;01mnot\u001b[39;00m \u001b[38;5;28;01mNone\u001b[39;00m \u001b[38;5;28;01melse\u001b[39;00m \u001b[38;5;124m\"\u001b[39m\u001b[38;5;124m\"\u001b[39m)\n\u001b[0;32m-> 7209\u001b[0m   \u001b[38;5;28;01mraise\u001b[39;00m core\u001b[38;5;241m.\u001b[39m_status_to_exception(e) \u001b[38;5;28;01mfrom\u001b[39;00m \u001b[38;5;28mNone\u001b[39m\n",
      "\u001b[0;31mNotFoundError\u001b[0m: Exception encountered when calling layer \"conv2d\" \"                 f\"(type Conv2D).\n\n{{function_node __wrapped__Conv2D_device_/job:localhost/replica:0/task:0/device:GPU:0}} No algorithm worked!  Error messages:\n  Profiling failure on CUDNN engine eng1{}: UNKNOWN: CUDNN_STATUS_ALLOC_FAILED\nin tensorflow/stream_executor/cuda/cuda_dnn.cc(4369): 'status'\n  Profiling failure on CUDNN engine eng28{}: UNKNOWN: CUDNN_STATUS_ALLOC_FAILED\nin tensorflow/stream_executor/cuda/cuda_dnn.cc(4369): 'status'\n  Profiling failure on CUDNN engine eng0{}: UNKNOWN: CUDNN_STATUS_ALLOC_FAILED\nin tensorflow/stream_executor/cuda/cuda_dnn.cc(4369): 'status'\n  Profiling failure on CUDNN engine eng4{}: UNKNOWN: CUDNN_STATUS_INTERNAL_ERROR\nin tensorflow/stream_executor/cuda/cuda_dnn.cc(4369): 'status' [Op:Conv2D]\n\nCall arguments received by layer \"conv2d\" \"                 f\"(type Conv2D):\n  • inputs=tf.Tensor(shape=(1, 512, 512, 1), dtype=float32)"
     ]
    }
   ],
   "source": [
    "in_name = \"../../Nemesis/starnet/Orion_B_IRAC_Field1_i1.resamp.stretched.fits\"\n",
    "out_name = \"../../Nemesis/starnet/Orion_B_IRAC_Field1_i1.resamp.starless.fits\"\n",
    "#in_name = \"rgb_test5.tif\"\n",
    "#out_name = \"rgb_test5_starless.tif\"\n",
    "starnet.transform(in_name, out_name)"
   ]
  },
  {
   "cell_type": "code",
   "execution_count": null,
   "metadata": {},
   "outputs": [],
   "source": []
  }
 ],
 "metadata": {
  "kernelspec": {
   "display_name": "Python 3 (ipykernel)",
   "language": "python",
   "name": "python3"
  },
  "language_info": {
   "codemirror_mode": {
    "name": "ipython",
    "version": 3
   },
   "file_extension": ".py",
   "mimetype": "text/x-python",
   "name": "python",
   "nbconvert_exporter": "python",
   "pygments_lexer": "ipython3",
   "version": "3.10.6"
  }
 },
 "nbformat": 4,
 "nbformat_minor": 2
}
